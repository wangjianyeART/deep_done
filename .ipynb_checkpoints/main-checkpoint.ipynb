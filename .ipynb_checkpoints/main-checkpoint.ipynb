{
 "cells": [
  {
   "cell_type": "code",
   "execution_count": 13,
   "id": "dcb8a8a8-58ff-4e98-a97e-ffffcce2152d",
   "metadata": {},
   "outputs": [],
   "source": [
    "import os\n",
    "from copy import deepcopy\n",
    "import numpy as np\n",
    "\n",
    "#from m_src.model_utils.config import get_config\n",
    "#from src.util import get_chunks, get_label_lists, F1, LSTMCRFLearningRate\n",
    "#from src.model_utils.config import config\n",
    "#from src.dataset import get_data_set\n",
    "#from src.imdb import ImdbParser\n",
    "#from src.LSTM_CRF import Lstm_CRF\n",
    "\n",
    "#from mindspore.common import set_seed\n",
    "#from mindspore.nn.optim import AdamWeightDecay\n",
    "# from mindspore import Tensor, Model, context\n",
    "# from mindspore.nn import DynamicLossScaleUpdateCell\n",
    "# from mindspore.train.callback import CheckpointConfig, ModelCheckpoint, TimeMonitor\n",
    "# from mindspore.train.serialization import load_param_into_net, load_checkpoint\n",
    "\n",
    "# set_seed(1000)\n"
   ]
  },
  {
   "cell_type": "code",
   "execution_count": null,
   "id": "b0d20af6-bcfb-42a3-b835-1fd010cac789",
   "metadata": {},
   "outputs": [],
   "source": []
  },
  {
   "cell_type": "code",
   "execution_count": null,
   "id": "d0637b5e-c118-4667-9c04-b9d1efd37b9d",
   "metadata": {},
   "outputs": [],
   "source": []
  },
  {
   "cell_type": "code",
   "execution_count": null,
   "id": "3f0ce53a-0153-4ac1-a9f9-3dc4504ee0c6",
   "metadata": {},
   "outputs": [],
   "source": []
  }
 ],
 "metadata": {
  "kernelspec": {
   "display_name": "MindSpore",
   "language": "python",
   "name": "mindspore"
  },
  "language_info": {
   "codemirror_mode": {
    "name": "ipython",
    "version": 3
   },
   "file_extension": ".py",
   "mimetype": "text/x-python",
   "name": "python",
   "nbconvert_exporter": "python",
   "pygments_lexer": "ipython3",
   "version": "3.7.6"
  }
 },
 "nbformat": 4,
 "nbformat_minor": 5
}
